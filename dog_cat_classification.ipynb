{
  "nbformat": 4,
  "nbformat_minor": 0,
  "metadata": {
    "colab": {
      "provenance": [],
      "collapsed_sections": [],
      "authorship_tag": "ABX9TyPFdbmI0cn2A5apsaDCXjx3",
      "include_colab_link": true
    },
    "kernelspec": {
      "name": "python3",
      "display_name": "Python 3"
    },
    "language_info": {
      "name": "python"
    }
  },
  "cells": [
    {
      "cell_type": "markdown",
      "metadata": {
        "id": "view-in-github",
        "colab_type": "text"
      },
      "source": [
        "<a href=\"https://colab.research.google.com/github/Zoro114/Dog_cat_classification/blob/main/dog_cat_classification.ipynb\" target=\"_parent\"><img src=\"https://colab.research.google.com/assets/colab-badge.svg\" alt=\"Open In Colab\"/></a>"
      ]
    },
    {
      "cell_type": "code",
      "source": [
        "import tensorflow as tf\n",
        "from tensorflow import keras\n",
        "import pandas as pd"
      ],
      "metadata": {
        "id": "EIFzCqQsBcCa"
      },
      "execution_count": 30,
      "outputs": []
    },
    {
      "cell_type": "code",
      "execution_count": 2,
      "metadata": {
        "colab": {
          "base_uri": "https://localhost:8080/"
        },
        "id": "K6rTe4KAAXHd",
        "outputId": "4b7207db-d356-41a7-d38f-141ff06dfe7b"
      },
      "outputs": [
        {
          "output_type": "stream",
          "name": "stdout",
          "text": [
            "--2022-09-06 13:10:58--  https://cainvas-static.s3.amazonaws.com/media/user_data/tanmay/dogvcat.zip\n",
            "Resolving cainvas-static.s3.amazonaws.com (cainvas-static.s3.amazonaws.com)... 52.219.158.63\n",
            "Connecting to cainvas-static.s3.amazonaws.com (cainvas-static.s3.amazonaws.com)|52.219.158.63|:443... connected.\n",
            "HTTP request sent, awaiting response... 200 OK\n",
            "Length: 60547127 (58M) [application/zip]\n",
            "Saving to: ‘dogvcat.zip’\n",
            "\n",
            "dogvcat.zip         100%[===================>]  57.74M  12.2MB/s    in 6.5s    \n",
            "\n",
            "2022-09-06 13:11:05 (8.89 MB/s) - ‘dogvcat.zip’ saved [60547127/60547127]\n",
            "\n"
          ]
        }
      ],
      "source": [
        "!wget \"https://cainvas-static.s3.amazonaws.com/media/user_data/tanmay/dogvcat.zip\"\n",
        "!unzip -qo dogvcat.zip"
      ]
    },
    {
      "cell_type": "code",
      "source": [
        "train_dir=\"/content/datset/training\"\n",
        "train_datagen=keras.preprocessing.image.ImageDataGenerator(rescale=1.0/255,validation_split=0.2)\n",
        "test_datagen=keras.preprocessing.image.ImageDataGenerator(rescale=1./255)\n",
        "\n",
        "train_data=train_datagen.flow_from_directory(train_dir,target_size=(32,32),batch_size=20,class_mode=\"binary\",subset=\"training\")\n",
        "val_data=train_datagen.flow_from_directory(train_dir,target_size=(32,32),batch_size=20,class_mode=\"binary\",subset=\"validation\")\n",
        "\n"
      ],
      "metadata": {
        "colab": {
          "base_uri": "https://localhost:8080/"
        },
        "id": "oEsxK0yAAYnF",
        "outputId": "e4a9fd0a-687f-434c-e3e2-da02f4af44f3"
      },
      "execution_count": 33,
      "outputs": [
        {
          "output_type": "stream",
          "name": "stdout",
          "text": [
            "Found 19860 images belonging to 2 classes.\n",
            "Found 4963 images belonging to 2 classes.\n",
            "Found 0 images belonging to 0 classes.\n"
          ]
        }
      ]
    },
    {
      "cell_type": "code",
      "source": [
        "model=keras.models.Sequential([\n",
        "    keras.layers.Conv2D(filters=6,kernel_size=5,activation=\"relu\",padding=\"same\"),\n",
        "    keras.layers.MaxPool2D(),\n",
        "    keras.layers.BatchNormalization(),\n",
        "    keras.layers.Conv2D(filters=16,kernel_size=5,activation=\"relu\",padding=\"same\"),\n",
        "    keras.layers.MaxPool2D(),\n",
        "    keras.layers.BatchNormalization(),\n",
        "    keras.layers.Conv2D(filters=120,kernel_size=5,activation=\"relu\",padding=\"same\"),\n",
        "    keras.layers.BatchNormalization(),\n",
        "    keras.layers.Flatten(),\n",
        "    keras.layers.Dense(128,activation=\"relu\"),\n",
        "    keras.layers.Dense(256,activation=\"relu\"),\n",
        "    keras.layers.Dense(2,activation=\"sigmoid\"),\n",
        "\n",
        "])"
      ],
      "metadata": {
        "id": "YePS7BqXC_CB"
      },
      "execution_count": 102,
      "outputs": []
    },
    {
      "cell_type": "code",
      "source": [
        "model.compile(optimizer=\"adam\",loss=keras.losses.sparse_categorical_crossentropy,metrics=[\"accuracy\"])"
      ],
      "metadata": {
        "id": "jErvqREzDt15"
      },
      "execution_count": 103,
      "outputs": []
    },
    {
      "cell_type": "code",
      "source": [
        "history=model.fit(train_data,epochs=6,validation_data=val_data)"
      ],
      "metadata": {
        "colab": {
          "base_uri": "https://localhost:8080/"
        },
        "id": "31z0ff0iIdRA",
        "outputId": "ca218e1b-4801-4f8e-d026-42639d7dced1"
      },
      "execution_count": 104,
      "outputs": [
        {
          "output_type": "stream",
          "name": "stdout",
          "text": [
            "Epoch 1/6\n",
            "993/993 [==============================] - 80s 59ms/step - loss: 0.6509 - accuracy: 0.6382 - val_loss: 0.6211 - val_accuracy: 0.6625\n",
            "Epoch 2/6\n",
            "993/993 [==============================] - 63s 63ms/step - loss: 0.5653 - accuracy: 0.7072 - val_loss: 0.7669 - val_accuracy: 0.6152\n",
            "Epoch 3/6\n",
            "993/993 [==============================] - 59s 59ms/step - loss: 0.5148 - accuracy: 0.7448 - val_loss: 0.5903 - val_accuracy: 0.6851\n",
            "Epoch 4/6\n",
            "993/993 [==============================] - 58s 59ms/step - loss: 0.4680 - accuracy: 0.7785 - val_loss: 0.5039 - val_accuracy: 0.7532\n",
            "Epoch 5/6\n",
            "993/993 [==============================] - 58s 58ms/step - loss: 0.4189 - accuracy: 0.8040 - val_loss: 0.5045 - val_accuracy: 0.7566\n",
            "Epoch 6/6\n",
            "993/993 [==============================] - 59s 59ms/step - loss: 0.3610 - accuracy: 0.8352 - val_loss: 0.5539 - val_accuracy: 0.7413\n"
          ]
        }
      ]
    },
    {
      "cell_type": "code",
      "source": [
        "model.evaluate(train_data)"
      ],
      "metadata": {
        "id": "Jp0RJ0_yIst6",
        "colab": {
          "base_uri": "https://localhost:8080/"
        },
        "outputId": "3ae513b1-2515-416b-c054-0b2591a5ded9"
      },
      "execution_count": 105,
      "outputs": [
        {
          "output_type": "stream",
          "name": "stdout",
          "text": [
            "993/993 [==============================] - 23s 23ms/step - loss: 0.3142 - accuracy: 0.8654\n"
          ]
        },
        {
          "output_type": "execute_result",
          "data": {
            "text/plain": [
              "[0.3141511082649231, 0.865357518196106]"
            ]
          },
          "metadata": {},
          "execution_count": 105
        }
      ]
    },
    {
      "cell_type": "code",
      "source": [
        "pd.DataFrame(history.history).plot()"
      ],
      "metadata": {
        "colab": {
          "base_uri": "https://localhost:8080/",
          "height": 283
        },
        "id": "71ZahlUBEiui",
        "outputId": "f657c04d-7b92-4c8b-e5a3-dbc8580f5b9f"
      },
      "execution_count": 106,
      "outputs": [
        {
          "output_type": "execute_result",
          "data": {
            "text/plain": [
              "<matplotlib.axes._subplots.AxesSubplot at 0x7fd450761b90>"
            ]
          },
          "metadata": {},
          "execution_count": 106
        },
        {
          "output_type": "display_data",
          "data": {
            "text/plain": [
              "<Figure size 432x288 with 1 Axes>"
            ],
            "image/png": "[encoded data removed]"
          },
          "metadata": {
            "needs_background": "light"
          }
        }
      ]
    },
    {
      "cell_type": "code",
      "source": [
        "import cv2\n",
        "import numpy as np\n",
        "from tensorflow.keras.preprocessing.image import img_to_array\n"
      ],
      "metadata": {
        "id": "mO86pu6PFpqQ"
      },
      "execution_count": 107,
      "outputs": []
    },
    {
      "cell_type": "code",
      "source": [
        "def load_test_image(path):\n",
        "  image=cv2.imread(path)\n",
        "  image.resize(32,32,3)\n",
        "  image_arr=img_to_array(image)\n",
        "  image_arr=image_arr/255\n",
        "  np_image = np.expand_dims(image_arr, axis=0)\n",
        "  return np_image\n",
        "\n",
        "def pred_dog_cat(img):\n",
        "  pred=model.predict(img)\n",
        "  idx=np.argmax(pred)\n",
        "  if(idx==0):\n",
        "    print(\"cat\")\n",
        "  else:\n",
        "    print(\"dog\")\n",
        "  \n",
        "\n"
      ],
      "metadata": {
        "id": "X0uPzN8uFu0h"
      },
      "execution_count": 145,
      "outputs": []
    },
    {
      "cell_type": "code",
      "source": [
        "dog=load_test_image(\"/content/datset/testing/10.jpg\")"
      ],
      "metadata": {
        "id": "XHanM8HMF6A2"
      },
      "execution_count": 146,
      "outputs": []
    },
    {
      "cell_type": "code",
      "source": [
        "pred_dog_cat(dog)"
      ],
      "metadata": {
        "colab": {
          "base_uri": "https://localhost:8080/"
        },
        "id": "XG-HhSLgP5Tn",
        "outputId": "7a595485-4180-4fb1-b3f0-edad594ba2a7"
      },
      "execution_count": 147,
      "outputs": [
        {
          "output_type": "stream",
          "name": "stdout",
          "text": [
            "cat\n"
          ]
        }
      ]
    },
    {
      "cell_type": "code",
      "source": [
        "ls=[]\n",
        "test_dir=\"/content/datset/testing/\"\n",
        "\n",
        "for i in range(1,13):\n",
        "  path=test_dir+str(i)+\".jpg\"\n",
        "  ls.append(load_test_image(path))\n",
        "\n",
        "\n",
        "len(ls)"
      ],
      "metadata": {
        "colab": {
          "base_uri": "https://localhost:8080/"
        },
        "id": "u8v70q93QnZq",
        "outputId": "bd35b74f-0050-4c95-ffba-8adbebfa7ef9"
      },
      "execution_count": 155,
      "outputs": [
        {
          "output_type": "execute_result",
          "data": {
            "text/plain": [
              "12"
            ]
          },
          "metadata": {},
          "execution_count": 155
        }
      ]
    },
    {
      "cell_type": "code",
      "source": [
        "for i in range(0,12):\n",
        "  pred_dog_cat(ls[i])"
      ],
      "metadata": {
        "colab": {
          "base_uri": "https://localhost:8080/"
        },
        "id": "8hMDY871a6WI",
        "outputId": "49d6f27d-a202-438c-8ec8-073c4946bcc8"
      },
      "execution_count": 158,
      "outputs": [
        {
          "output_type": "stream",
          "name": "stdout",
          "text": [
            "cat\n",
            "cat\n",
            "dog\n",
            "cat\n",
            "cat\n",
            "cat\n",
            "dog\n",
            "dog\n",
            "dog\n",
            "cat\n",
            "dog\n",
            "dog\n"
          ]
        }
      ]
    },
    {
      "cell_type": "code",
      "source": [],
      "metadata": {
        "id": "Gn5CtGPpdiw2"
      },
      "execution_count": null,
      "outputs": []
    }
  ]
}